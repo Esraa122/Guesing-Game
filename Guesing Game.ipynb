{
 "cells": [
  {
   "cell_type": "code",
   "execution_count": 1,
   "id": "b2807517",
   "metadata": {},
   "outputs": [],
   "source": [
    "import random\n",
    " \n",
    "def r_n(s, e):\n",
    "    out = random.randint(s, e)\n",
    "    return out\n",
    "\n",
    "Actual = int(r_n(1,100))\n",
    "#print(Actual)"
   ]
  },
  {
   "cell_type": "code",
   "execution_count": 2,
   "id": "34ff2ac8",
   "metadata": {},
   "outputs": [
    {
     "name": "stdout",
     "output_type": "stream",
     "text": [
      "Welcome to Guesing Game!!!\n",
      "Please enter your name: Esraa\n",
      "\n",
      "Hi Esraa, \n",
      "Our game challenges you to guess the number the machine is thinking for ... Feel free to choose from 1 to 100 and I will guide you by saying 'Closer' or 'Farther'.\n",
      "\n",
      "Can you find my secret number?!\n"
     ]
    }
   ],
   "source": [
    "name = input(\"Welcome to Guesing Game!!!\\nPlease enter your name: \")\n",
    "print(\"\\nHi\",name+\",\",\"\\nOur game challenges you to guess the number the machine is thinking for ... Feel free to choose from 1 to 100 and I will guide you by saying 'Closer' or 'Farther'.\\n\\nCan you find my secret number?!\")"
   ]
  },
  {
   "cell_type": "code",
   "execution_count": 3,
   "id": "8e4e096c",
   "metadata": {},
   "outputs": [
    {
     "name": "stdout",
     "output_type": "stream",
     "text": [
      "Enter your prediction number: 68\n",
      "Closer!!!\n",
      "Enter your prediction number: 70\n",
      "Closer!!!\n",
      "Enter your prediction number: 71\n",
      "Closer!!!\n",
      "Enter your prediction number: 67\n",
      "Closer!!!\n",
      "Enter your prediction number: 66\n",
      "Closer!!!\n",
      "Enter your prediction number: 72\n",
      "Closer!!!\n",
      "Enter your prediction number: 75\n",
      "Farther!!!\n",
      "Enter your prediction number: 73\n",
      "Closer!!!\n",
      "Enter your prediction number: 74\n",
      "Farther!!!\n",
      "Enter your prediction number: 65\n",
      "Closer!!!\n",
      "Enter your prediction number: 64\n",
      "Farther!!!\n",
      "Enter your prediction number: 69\n",
      "\n",
      "Wow winner!!!\n",
      "You've guessed Correctly\n",
      "You find the number after 12 Times\n",
      "\n",
      "I want to play again = 1\n",
      "End the game = 0\n",
      "0\n",
      "\n",
      " Nice game Esraa ♥\n"
     ]
    }
   ],
   "source": [
    "count = 0\n",
    "play = True\n",
    "while(play):\n",
    "    Guess= int(input(\"Enter your prediction number: \"))\n",
    "    if Guess>=1 and Guess<=100:\n",
    "        count += 1\n",
    "        if Guess == Actual:\n",
    "            print(\"\\nWow winner!!!\\nYou've guessed Correctly\\nYou find the number after\",count,\"Times\")\n",
    "            count = 0\n",
    "            x = int(input(\"\\nI want to play again = 1\\nEnd the game = 0\\n\"))\n",
    "            if x == 1:\n",
    "                play = True\n",
    "                Actual = int(r_n(1,100))\n",
    "                #print(Actual)\n",
    "            elif x == 0:\n",
    "                print(\"\\n Nice game\",name,\"♥\")\n",
    "                play = False\n",
    "            else:\n",
    "                print(\"Please enter 0 or 1\")\n",
    "        elif abs(Actual-Guess)<5:\n",
    "            print(\"Closer!!!\")\n",
    "        else:\n",
    "            print(\"Farther!!!\")\n",
    "    else:\n",
    "        print(\"Out Of Bounds\")"
   ]
  },
  {
   "cell_type": "code",
   "execution_count": null,
   "id": "78db8142",
   "metadata": {},
   "outputs": [],
   "source": []
  }
 ],
 "metadata": {
  "kernelspec": {
   "display_name": "Python 3",
   "language": "python",
   "name": "python3"
  },
  "language_info": {
   "codemirror_mode": {
    "name": "ipython",
    "version": 3
   },
   "file_extension": ".py",
   "mimetype": "text/x-python",
   "name": "python",
   "nbconvert_exporter": "python",
   "pygments_lexer": "ipython3",
   "version": "3.8.8"
  }
 },
 "nbformat": 4,
 "nbformat_minor": 5
}
